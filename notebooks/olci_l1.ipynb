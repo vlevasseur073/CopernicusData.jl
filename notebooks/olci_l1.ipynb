{
 "cells": [
  {
   "cell_type": "markdown",
   "id": "76f418c8",
   "metadata": {},
   "source": [
    "# Sentinel-3 zarr products"
   ]
  },
  {
   "cell_type": "code",
   "execution_count": null,
   "id": "d0780ea0",
   "metadata": {},
   "outputs": [],
   "source": [
    "using CopernicusData\n",
    "using Plots\n",
    "using Downloads\n",
    "using YAXArrays\n",
    "\n",
    "const PRODUCT_PATH = \"https://common.s3.sbg.perf.cloud.ovh.net/eoproducts\"\n",
    "const OLCEFR=\"S03OLCEFR_20230506T015316_0180_B117_T883.zarr.zip\""
   ]
  },
  {
   "cell_type": "markdown",
   "id": "daf25c9f",
   "metadata": {},
   "source": [
    "## OLCI Level-1"
   ]
  },
  {
   "cell_type": "code",
   "execution_count": null,
   "id": "9348f841",
   "metadata": {},
   "outputs": [],
   "source": [
    "olci_path = joinpath(PRODUCT_PATH, OLCEFR)\n",
    "olci_path"
   ]
  },
  {
   "cell_type": "code",
   "execution_count": null,
   "id": "e7bf5f29",
   "metadata": {},
   "outputs": [],
   "source": [
    "local_path = joinpath(tempdir(),OLCEFR)\n",
    "Downloads.download(olci_path, local_path)\n",
    "efr = open_datatree(local_path)\n",
    "efr"
   ]
  },
  {
   "cell_type": "markdown",
   "id": "46392414",
   "metadata": {},
   "source": [
    "The product is represented by a hierarchical tree structure `YAXTrees.YAXTree`\n",
    "\n",
    "\n",
    "### Opening measurements data\n"
   ]
  },
  {
   "cell_type": "code",
   "execution_count": null,
   "id": "95f7c1fe",
   "metadata": {},
   "outputs": [],
   "source": [
    "rad = efr.measurements.oa01_radiance\n",
    "rad"
   ]
  },
  {
   "cell_type": "markdown",
   "id": "f93a0a92",
   "metadata": {},
   "source": [
    "The nodes of the `YAXTree` are `YAXArrays.YAXArray` or `YAXArrays.Dataset`"
   ]
  },
  {
   "cell_type": "code",
   "execution_count": null,
   "id": "9d3d3e67",
   "metadata": {},
   "outputs": [],
   "source": [
    "rad.data"
   ]
  },
  {
   "cell_type": "markdown",
   "id": "a60ca00f",
   "metadata": {},
   "source": [
    "The underlying data is a `CFDiskArray`\n",
    "\n",
    "### Plot data"
   ]
  },
  {
   "cell_type": "code",
   "execution_count": null,
   "id": "3d52a2aa",
   "metadata": {},
   "outputs": [],
   "source": [
    "heatmap(rad.data, title=rad.properties[\"long_name\"]) # hide"
   ]
  },
  {
   "cell_type": "markdown",
   "id": "6876ff10",
   "metadata": {},
   "source": [
    "### Open meteorological conditions"
   ]
  },
  {
   "cell_type": "code",
   "execution_count": null,
   "id": "6c1f0b7c",
   "metadata": {},
   "outputs": [],
   "source": [
    "\n",
    "meteo = efr.conditions.meteorology"
   ]
  },
  {
   "cell_type": "markdown",
   "id": "2466a394",
   "metadata": {},
   "source": [
    "### Interpolate the atmospheric temperature at p=832.2 hPa"
   ]
  },
  {
   "cell_type": "code",
   "execution_count": null,
   "id": "494d94e1",
   "metadata": {},
   "outputs": [],
   "source": [
    "x=getproperty(meteo.atmospheric_temperature_profile,:pressure_level)\n",
    "x.val.order isa YAXArrays.DD.Dimensions.Lookups.ReverseOrdered"
   ]
  },
  {
   "cell_type": "code",
   "execution_count": null,
   "id": "a7bc715b",
   "metadata": {},
   "outputs": [],
   "source": [
    "tp = linear_interpolation(meteo, \"atmospheric_temperature_profile\", dims=\"pressure_level\", value=932.2)\n",
    "heatmap(tp.data, title=\"pressure_level=932.2 hPa\")"
   ]
  }
 ],
 "metadata": {
  "kernelspec": {
   "display_name": "Julia 1.11.5",
   "language": "julia",
   "name": "julia-1.11"
  },
  "language_info": {
   "file_extension": ".jl",
   "mimetype": "application/julia",
   "name": "julia",
   "version": "1.11.5"
  }
 },
 "nbformat": 4,
 "nbformat_minor": 5
}
