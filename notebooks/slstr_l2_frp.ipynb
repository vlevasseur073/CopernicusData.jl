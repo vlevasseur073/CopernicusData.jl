{
 "cells": [
  {
   "cell_type": "markdown",
   "id": "76f418c8",
   "metadata": {},
   "source": [
    "# Sentinel-3 zarr products"
   ]
  },
  {
   "cell_type": "code",
   "execution_count": null,
   "id": "d0780ea0",
   "metadata": {},
   "outputs": [],
   "source": [
    "using CopernicusData\n",
    "using Plots\n",
    "using Downloads\n",
    "using YAXArrays\n",
    "\n",
    "const PRODUCT_PATH = \"https://common.s3.sbg.perf.cloud.ovh.net/eoproducts\"\n",
    "const SLSFRP=\"S03SLSFRP_20200908T182648_0179_A298_S883.zarr.zip\""
   ]
  },
  {
   "cell_type": "markdown",
   "id": "daf25c9f",
   "metadata": {},
   "source": [
    "## SLSTR Level-2 FRP"
   ]
  },
  {
   "cell_type": "code",
   "execution_count": null,
   "id": "9348f841",
   "metadata": {},
   "outputs": [],
   "source": [
    "frp_path = joinpath(PRODUCT_PATH, SLSFRP)\n",
    "frp_path"
   ]
  },
  {
   "cell_type": "code",
   "execution_count": null,
   "id": "e7bf5f29",
   "metadata": {},
   "outputs": [],
   "source": [
    "local_path = joinpath(tempdir(),SLSFRP)\n",
    "Downloads.download(frp_path, local_path)\n",
    "frp = open_datatree(local_path)\n",
    "frp"
   ]
  },
  {
   "cell_type": "markdown",
   "id": "46392414",
   "metadata": {},
   "source": [
    "The product is represented by a hierarchical tree structure `YAXTrees.YAXTree`\n",
    "\n",
    "\n",
    "### Opening measurements data (1D)\n"
   ]
  },
  {
   "cell_type": "code",
   "execution_count": null,
   "id": "95f7c1fe",
   "metadata": {},
   "outputs": [],
   "source": [
    "meas = frp.measurements.inadir\n",
    "meas"
   ]
  },
  {
   "cell_type": "markdown",
   "id": "a60ca00f",
   "metadata": {},
   "source": [
    "### Plot active fire pixels"
   ]
  },
  {
   "cell_type": "code",
   "execution_count": null,
   "id": "3d52a2aa",
   "metadata": {},
   "outputs": [],
   "source": [
    "using CairoMakie, GeoMakie\n",
    "\n",
    "frp_vals = Int64.(round.(frp.measurements.inadir.frp_mwir.data))\n",
    "fig = Figure()\n",
    "ax = GeoAxis(fig[1,1]; dest = \"+proj=merc\")\n",
    "GeoMakie.xlims!(ax, -125, -114)\n",
    "GeoMakie.ylims!(ax, 40, 50)\n",
    "# lines!(ax, GeoMakie.coastlines(ax))\n",
    "lines!(ax, GeoMakie.coastlines(50), color=:black)\n",
    "s=GeoMakie.scatter!(ax, \n",
    "    frp.measurements.inadir.longitude.data,\n",
    "    frp.measurements.inadir.latitude.data,\n",
    "    # color=frp.measurements.inadir.frp_mwir.data,\n",
    "    color=frp_vals,\n",
    "    colormap=:thermal,\n",
    "    markersize=15,\n",
    "    colorrange=(0, 100),\n",
    "    )\n",
    "Colorbar(fig[1,2],s, ticks=0:20:100)\n",
    "fig"
   ]
  },
  {
   "cell_type": "code",
   "execution_count": null,
   "id": "0bcf4bc2",
   "metadata": {},
   "outputs": [],
   "source": [
    "Int64(round(-1.2385744))\n"
   ]
  }
 ],
 "metadata": {
  "kernelspec": {
   "display_name": "Julia 1.11.5",
   "language": "julia",
   "name": "julia-1.11"
  },
  "language_info": {
   "file_extension": ".jl",
   "mimetype": "application/julia",
   "name": "julia",
   "version": "1.11.5"
  }
 },
 "nbformat": 4,
 "nbformat_minor": 5
}
